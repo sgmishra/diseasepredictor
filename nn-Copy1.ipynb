{
 "cells": [
  {
   "cell_type": "code",
   "execution_count": 1,
   "metadata": {},
   "outputs": [],
   "source": [
    "import pandas as pd\n",
    "import csv\n",
    "import json\n",
    "import sys\n",
    "import numpy\n",
    "\n",
    "import math\n",
    "from flask import Flask, render_template, request, redirect, Response\n",
    "import random, json\n"
   ]
  },
  {
   "cell_type": "code",
   "execution_count": 2,
   "metadata": {},
   "outputs": [],
   "source": [
    "# gra = {\"shubham\": [{\"id\": \"heavy feeling\", \"x\": -710, \"y\": 240, \"size\": 0.5, \"color\": \"#E57821\", \"label\": \"heavy feeling\"},{\"id\": \"heavy feeling\", \"x\": -710, \"y\": 240, \"size\": 0.5, \"color\": \"#E57821\", \"label\": \"heavy feeling\"}],\n",
    "#        \"aman\":        {\"id\": \"heavy feeling\", \"x\": -710, \"y\": 240, \"size\": 0.5, \"color\": \"#E57821\", \"label\": \"heavy feeling\"}}\n",
    "\n",
    "# @app.route('/')\n",
    "# def output():\n",
    "# \t# serve index template\n",
    "# \treturn render_template('index.html', graph=gra)"
   ]
  },
  {
   "cell_type": "code",
   "execution_count": 3,
   "metadata": {},
   "outputs": [],
   "source": [
    "# app.run()"
   ]
  },
  {
   "cell_type": "markdown",
   "metadata": {},
   "source": [
    "# Reading data"
   ]
  },
  {
   "cell_type": "code",
   "execution_count": 2,
   "metadata": {},
   "outputs": [
    {
     "data": {
      "text/html": [
       "<div>\n",
       "<style scoped>\n",
       "    .dataframe tbody tr th:only-of-type {\n",
       "        vertical-align: middle;\n",
       "    }\n",
       "\n",
       "    .dataframe tbody tr th {\n",
       "        vertical-align: top;\n",
       "    }\n",
       "\n",
       "    .dataframe thead th {\n",
       "        text-align: right;\n",
       "    }\n",
       "</style>\n",
       "<table border=\"1\" class=\"dataframe\">\n",
       "  <thead>\n",
       "    <tr style=\"text-align: right;\">\n",
       "      <th></th>\n",
       "      <th>Source</th>\n",
       "      <th>Target</th>\n",
       "      <th>Weight</th>\n",
       "    </tr>\n",
       "  </thead>\n",
       "  <tbody>\n",
       "    <tr>\n",
       "      <td>0</td>\n",
       "      <td>hypertensive disease</td>\n",
       "      <td>vertigo</td>\n",
       "      <td>3363</td>\n",
       "    </tr>\n",
       "    <tr>\n",
       "      <td>1</td>\n",
       "      <td>hypertensive disease</td>\n",
       "      <td>syncope</td>\n",
       "      <td>3363</td>\n",
       "    </tr>\n",
       "    <tr>\n",
       "      <td>2</td>\n",
       "      <td>hypertensive disease</td>\n",
       "      <td>sweating increased</td>\n",
       "      <td>3363</td>\n",
       "    </tr>\n",
       "    <tr>\n",
       "      <td>3</td>\n",
       "      <td>hypertensive disease</td>\n",
       "      <td>sweat</td>\n",
       "      <td>3363</td>\n",
       "    </tr>\n",
       "    <tr>\n",
       "      <td>4</td>\n",
       "      <td>hypertensive disease</td>\n",
       "      <td>shortness of breath</td>\n",
       "      <td>3363</td>\n",
       "    </tr>\n",
       "    <tr>\n",
       "      <td>...</td>\n",
       "      <td>...</td>\n",
       "      <td>...</td>\n",
       "      <td>...</td>\n",
       "    </tr>\n",
       "    <tr>\n",
       "      <td>2124</td>\n",
       "      <td>affect labile</td>\n",
       "      <td>bedridden</td>\n",
       "      <td>45</td>\n",
       "    </tr>\n",
       "    <tr>\n",
       "      <td>2125</td>\n",
       "      <td>affect labile</td>\n",
       "      <td>bedridden</td>\n",
       "      <td>45</td>\n",
       "    </tr>\n",
       "    <tr>\n",
       "      <td>2126</td>\n",
       "      <td>decubitus ulcer</td>\n",
       "      <td>systolic murmur</td>\n",
       "      <td>42</td>\n",
       "    </tr>\n",
       "    <tr>\n",
       "      <td>2127</td>\n",
       "      <td>decubitus ulcer</td>\n",
       "      <td>frail</td>\n",
       "      <td>42</td>\n",
       "    </tr>\n",
       "    <tr>\n",
       "      <td>2128</td>\n",
       "      <td>decubitus ulcer</td>\n",
       "      <td>fever</td>\n",
       "      <td>42</td>\n",
       "    </tr>\n",
       "  </tbody>\n",
       "</table>\n",
       "<p>2129 rows × 3 columns</p>\n",
       "</div>"
      ],
      "text/plain": [
       "                    Source               Target  Weight\n",
       "0     hypertensive disease              vertigo    3363\n",
       "1     hypertensive disease              syncope    3363\n",
       "2     hypertensive disease   sweating increased    3363\n",
       "3     hypertensive disease                sweat    3363\n",
       "4     hypertensive disease  shortness of breath    3363\n",
       "...                    ...                  ...     ...\n",
       "2124         affect labile            bedridden      45\n",
       "2125         affect labile            bedridden      45\n",
       "2126       decubitus ulcer      systolic murmur      42\n",
       "2127       decubitus ulcer                frail      42\n",
       "2128       decubitus ulcer                fever      42\n",
       "\n",
       "[2129 rows x 3 columns]"
      ]
     },
     "execution_count": 2,
     "metadata": {},
     "output_type": "execute_result"
    }
   ],
   "source": [
    "original_data = pd.read_csv(\"Data.csv\",encoding = \"latin\")\n",
    "data=original_data.set_index(\"Target\")\n",
    "original_data"
   ]
  },
  {
   "cell_type": "markdown",
   "metadata": {},
   "source": [
    "# JSON Creation"
   ]
  },
  {
   "cell_type": "code",
   "execution_count": 3,
   "metadata": {
    "scrolled": true
   },
   "outputs": [],
   "source": [
    "df=original_data \n",
    "df = df.sample(frac=1).reset_index(drop=True) #shuffling the data\n",
    "diseases=pd.DataFrame(df['Source'].drop_duplicates(keep='first', inplace=False).reset_index(drop=True)) \n",
    "symptoms=pd.DataFrame(df['Target'].drop_duplicates(keep='first', inplace=False).reset_index(drop=True))\n",
    "symptoms.rename(columns={'Target':'id'},inplace=True)\n",
    "diseases.rename(columns={'Source':'id'},inplace=True)\n",
    "symptoms['x']=[*range(-202*10, 203*10, 10)]\n",
    "symptoms['y']=0\n",
    "symptoms['size']=0.5\n",
    "symptoms['color']='#E57821'\n",
    "symptoms['label']=symptoms['id']\n",
    "diseases['x']=[*range(-74*20, 75*20,20)]\n",
    "diseases['y']=1000\n",
    "diseases['size']=0.5\n",
    "diseases['color']='#008cc2'\n",
    "diseases['label']=diseases['id']\n",
    "symptoms.loc[1::2,\"y\"] = 80\n",
    "symptoms.loc[2::3,\"y\"] = 160\n",
    "symptoms.loc[3::4,\"y\"] = 240\n",
    "\n",
    "diseases.loc[1::2,\"y\"] = 900\n",
    "diseases.loc[2::3,\"y\"] = 800\n",
    "\n",
    "nodes=symptoms.append(diseases)\n",
    "#shuffling nodes\n",
    "nodes=nodes.sample(frac=1).reset_index(drop=True)\n",
    "\n",
    "\n",
    "df=original_data \n",
    "edges=df.rename(columns={'Source':'target','Target':'source'})\n",
    "edges['type']='curve'\n",
    "edges['color']='#FF0000'\n",
    "edges['size']=0.3\n",
    "edges['id']=[*range(0,2129 ,1)]"
   ]
  },
  {
   "cell_type": "code",
   "execution_count": 18,
   "metadata": {},
   "outputs": [
    {
     "ename": "TypeError",
     "evalue": "can't multiply sequence by non-int of type 'float'",
     "output_type": "error",
     "traceback": [
      "\u001b[0;31m---------------------------------------------------------------------------\u001b[0m",
      "\u001b[0;31mTypeError\u001b[0m                                 Traceback (most recent call last)",
      "\u001b[0;32m<ipython-input-18-41f2e5090b65>\u001b[0m in \u001b[0;36m<module>\u001b[0;34m\u001b[0m\n\u001b[0;32m----> 1\u001b[0;31m \u001b[0mtemp_frame\u001b[0m\u001b[0;34m=\u001b[0m\u001b[0mpd\u001b[0m\u001b[0;34m.\u001b[0m\u001b[0mDataFrame\u001b[0m\u001b[0;34m(\u001b[0m\u001b[0;34m[\u001b[0m\u001b[0;34m*\u001b[0m\u001b[0mrange\u001b[0m\u001b[0;34m(\u001b[0m\u001b[0;36m0\u001b[0m\u001b[0;34m,\u001b[0m \u001b[0;36m809\u001b[0m\u001b[0;34m,\u001b[0m\u001b[0;36m2\u001b[0m\u001b[0;34m)\u001b[0m\u001b[0;34m]\u001b[0m\u001b[0;34m*\u001b[0m\u001b[0mmath\u001b[0m\u001b[0;34m.\u001b[0m\u001b[0mpi\u001b[0m\u001b[0;34m/\u001b[0m\u001b[0;36m405\u001b[0m\u001b[0;34m)\u001b[0m\u001b[0;34m\u001b[0m\u001b[0;34m\u001b[0m\u001b[0m\n\u001b[0m\u001b[1;32m      2\u001b[0m \u001b[0;31m# temp_frame*=math.pi/405\u001b[0m\u001b[0;34m\u001b[0m\u001b[0;34m\u001b[0m\u001b[0;34m\u001b[0m\u001b[0m\n\u001b[1;32m      3\u001b[0m \u001b[0mnumpy\u001b[0m\u001b[0;34m.\u001b[0m\u001b[0mcos\u001b[0m\u001b[0;34m(\u001b[0m\u001b[0mtemp_frame\u001b[0m\u001b[0;34m)\u001b[0m\u001b[0;34m*\u001b[0m\u001b[0;36m100\u001b[0m\u001b[0;34m\u001b[0m\u001b[0;34m\u001b[0m\u001b[0m\n",
      "\u001b[0;31mTypeError\u001b[0m: can't multiply sequence by non-int of type 'float'"
     ]
    }
   ],
   "source": [
    "temp_frame=pd.DataFrame([*range(0, 809,2)]*math.pi/405)\n",
    "# temp_frame*=math.pi/405\n",
    "numpy.cos(temp_frame)*100\n"
   ]
  },
  {
   "cell_type": "markdown",
   "metadata": {},
   "source": [
    "# Storing JSON"
   ]
  },
  {
   "cell_type": "code",
   "execution_count": 4,
   "metadata": {
    "scrolled": true
   },
   "outputs": [],
   "source": [
    "#dataframe to dictonary\n",
    "nodes_dict=nodes.to_dict(orient='records')\n",
    "edges_dict=edges.to_dict(orient='records')\n",
    "\n",
    "# graphs={ 'nodes' : nodes_dict, 'edges' : edges_dict }\n",
    "# graph_json= json.dumps(graphs)\n",
    "# graph_json\n",
    "# with open(\"graph.js\", \"w\") as outfile: \n",
    "#     outfile.write(\"graph=\") \n",
    "#     outfile.write(graph_json)\n",
    "graphs={}\n",
    "graphs['nodes']=nodes_dict\n",
    "graphs['edges']=edges_dict\n"
   ]
  },
  {
   "cell_type": "code",
   "execution_count": 73,
   "metadata": {},
   "outputs": [
    {
     "data": {
      "text/plain": [
       "[]"
      ]
     },
     "execution_count": 73,
     "metadata": {},
     "output_type": "execute_result"
    }
   ],
   "source": [
    "a=['',\"\",\"\",'']\n",
    "a[:] = [x for x in a if x != '']\n",
    "a"
   ]
  },
  {
   "cell_type": "code",
   "execution_count": 21,
   "metadata": {},
   "outputs": [],
   "source": [
    "app = Flask(__name__)\n",
    "\n",
    "@app.route('/')\n",
    "def output():\n",
    "\t# serve index template\n",
    "\treturn render_template('index.html', graphs=graphs)\n",
    "\n",
    "@app.route('/receiver', methods = ['GET','POST'])\n",
    "def worker():\n",
    "\t# read json + reply\n",
    "    data = request.get_json(force=True)\n",
    "    result = ''\n",
    "#     print(data)\n",
    "    print(\"************************************\")\n",
    "\n",
    "    # for item in data:\n",
    "    #     result += str(item['make']) + '\\n'\n",
    "    return str(data)"
   ]
  },
  {
   "cell_type": "code",
   "execution_count": 22,
   "metadata": {},
   "outputs": [
    {
     "name": "stdout",
     "output_type": "stream",
     "text": [
      " * Serving Flask app \"__main__\" (lazy loading)\n",
      " * Environment: production\n",
      "   WARNING: This is a development server. Do not use it in a production deployment.\n",
      "   Use a production WSGI server instead.\n",
      " * Debug mode: off\n"
     ]
    },
    {
     "name": "stderr",
     "output_type": "stream",
     "text": [
      " * Running on http://127.0.0.1:5000/ (Press CTRL+C to quit)\n",
      "127.0.0.1 - - [25/Mar/2020 16:27:55] \"GET / HTTP/1.1\" 200 -\n",
      "127.0.0.1 - - [25/Mar/2020 16:27:55] \"POST /receiver HTTP/1.1\" 200 -\n"
     ]
    },
    {
     "name": "stdout",
     "output_type": "stream",
     "text": [
      "************************************\n"
     ]
    },
    {
     "name": "stderr",
     "output_type": "stream",
     "text": [
      "127.0.0.1 - - [25/Mar/2020 16:28:14] \"GET / HTTP/1.1\" 200 -\n",
      "127.0.0.1 - - [25/Mar/2020 16:28:15] \"POST /receiver HTTP/1.1\" 200 -\n"
     ]
    },
    {
     "name": "stdout",
     "output_type": "stream",
     "text": [
      "************************************\n"
     ]
    }
   ],
   "source": [
    "app.run()"
   ]
  },
  {
   "cell_type": "markdown",
   "metadata": {},
   "source": [
    "# Prediction Module"
   ]
  },
  {
   "cell_type": "code",
   "execution_count": 14,
   "metadata": {},
   "outputs": [],
   "source": [
    "def Prediction(sy):\n",
    "    common=data.loc[sy[0]]\n",
    "    for symptom in sy:\n",
    "        common=pd.merge(common, data.loc[symptom], how='inner', on=['Source'])\n",
    "    common=common.iloc[:, :-1*len(sy)]\n",
    "    common.iloc[:,-1]/=common.iloc[:,-1].sum()\n",
    "    common.set_axis([*common.columns[:-1], 'Probability'], axis=1, inplace=True)\n",
    "    common.sort_values(by=['Probability'], ascending=False,inplace=True)\n",
    "#     print(common.to_dict(orient='records'))\n",
    "    return(common)\n"
   ]
  },
  {
   "cell_type": "markdown",
   "metadata": {},
   "source": [
    "# Taking space sepereted symptoms as input"
   ]
  },
  {
   "cell_type": "code",
   "execution_count": 57,
   "metadata": {},
   "outputs": [
    {
     "name": "stdout",
     "output_type": "stream",
     "text": [
      "6\n"
     ]
    },
    {
     "data": {
      "text/html": [
       "<div>\n",
       "<style scoped>\n",
       "    .dataframe tbody tr th:only-of-type {\n",
       "        vertical-align: middle;\n",
       "    }\n",
       "\n",
       "    .dataframe tbody tr th {\n",
       "        vertical-align: top;\n",
       "    }\n",
       "\n",
       "    .dataframe thead th {\n",
       "        text-align: right;\n",
       "    }\n",
       "</style>\n",
       "<table border=\"1\" class=\"dataframe\">\n",
       "  <thead>\n",
       "    <tr style=\"text-align: right;\">\n",
       "      <th></th>\n",
       "      <th>Source</th>\n",
       "      <th>Target</th>\n",
       "      <th>Weight</th>\n",
       "      <th>Probability</th>\n",
       "    </tr>\n",
       "  </thead>\n",
       "  <tbody>\n",
       "    <tr>\n",
       "      <td>0</td>\n",
       "      <td>neoplasm</td>\n",
       "      <td>pain</td>\n",
       "      <td>297</td>\n",
       "      <td>0.460465</td>\n",
       "    </tr>\n",
       "    <tr>\n",
       "      <td>1</td>\n",
       "      <td>neoplasm</td>\n",
       "      <td>headache</td>\n",
       "      <td>297</td>\n",
       "      <td>0.460465</td>\n",
       "    </tr>\n",
       "    <tr>\n",
       "      <td>2</td>\n",
       "      <td>exanthema</td>\n",
       "      <td>pain</td>\n",
       "      <td>208</td>\n",
       "      <td>0.322481</td>\n",
       "    </tr>\n",
       "    <tr>\n",
       "      <td>3</td>\n",
       "      <td>exanthema</td>\n",
       "      <td>headache</td>\n",
       "      <td>208</td>\n",
       "      <td>0.322481</td>\n",
       "    </tr>\n",
       "    <tr>\n",
       "      <td>4</td>\n",
       "      <td>sickle cell anemia</td>\n",
       "      <td>pain</td>\n",
       "      <td>140</td>\n",
       "      <td>0.217054</td>\n",
       "    </tr>\n",
       "    <tr>\n",
       "      <td>5</td>\n",
       "      <td>sickle cell anemia</td>\n",
       "      <td>headache</td>\n",
       "      <td>140</td>\n",
       "      <td>0.217054</td>\n",
       "    </tr>\n",
       "  </tbody>\n",
       "</table>\n",
       "</div>"
      ],
      "text/plain": [
       "               Source    Target  Weight  Probability\n",
       "0            neoplasm      pain     297     0.460465\n",
       "1            neoplasm  headache     297     0.460465\n",
       "2           exanthema      pain     208     0.322481\n",
       "3           exanthema  headache     208     0.322481\n",
       "4  sickle cell anemia      pain     140     0.217054\n",
       "5  sickle cell anemia  headache     140     0.217054"
      ]
     },
     "execution_count": 57,
     "metadata": {},
     "output_type": "execute_result"
    }
   ],
   "source": [
    "# hallucinations auditory,feeling hopeless,weepiness,sleeplessness <-----Example input\n",
    "# sy =input(\"Enter symptoms\").split(',')\n",
    "shubham=[Prediction]\n",
    "sy=['pain','headache']\n",
    "common=shubham[0](sy)\n",
    "df=original_data\n",
    "df=df[df['Source'].isin(common['Source'])].reset_index(drop=True)\n",
    "df=df[df['Target'].isin(sy)].reset_index(drop=True)\n",
    "df=df.merge(common)\n",
    "print(df.shape[0])\n",
    "df\n",
    "# common"
   ]
  }
 ],
 "metadata": {
  "kernelspec": {
   "display_name": "Python 3",
   "language": "python",
   "name": "python3"
  },
  "language_info": {
   "codemirror_mode": {
    "name": "ipython",
    "version": 3
   },
   "file_extension": ".py",
   "mimetype": "text/x-python",
   "name": "python",
   "nbconvert_exporter": "python",
   "pygments_lexer": "ipython3",
   "version": "3.7.4"
  }
 },
 "nbformat": 4,
 "nbformat_minor": 2
}
